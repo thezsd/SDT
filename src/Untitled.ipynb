{
 "cells": [
  {
   "cell_type": "code",
   "execution_count": 19,
   "id": "a3ed369b",
   "metadata": {},
   "outputs": [],
   "source": [
    "import pandas as pd\n",
    "\n",
    "path = '/mnt/e/SDT/input/protein_embedding.csv'大扫除\n"
   ]
  },
  {
   "cell_type": "code",
   "execution_count": 20,
   "id": "5ac689a5",
   "metadata": {},
   "outputs": [],
   "source": [
    "contract_df=pd.read_csv(path,nrows=2)\n",
    "\n",
    "contract_df=contract_df.rename(columns={'Unnamed: 0': 'filename'})"
   ]
  },
  {
   "cell_type": "code",
   "execution_count": null,
   "id": "312c7384",
   "metadata": {},
   "outputs": [],
   "source": []
  },
  {
   "cell_type": "code",
   "execution_count": 21,
   "id": "19579774",
   "metadata": {
    "scrolled": true
   },
   "outputs": [
    {
     "data": {
      "text/html": [
       "<div>\n",
       "<style scoped>\n",
       "    .dataframe tbody tr th:only-of-type {\n",
       "        vertical-align: middle;\n",
       "    }\n",
       "\n",
       "    .dataframe tbody tr th {\n",
       "        vertical-align: top;\n",
       "    }\n",
       "\n",
       "    .dataframe thead th {\n",
       "        text-align: right;\n",
       "    }\n",
       "</style>\n",
       "<table border=\"1\" class=\"dataframe\">\n",
       "  <thead>\n",
       "    <tr style=\"text-align: right;\">\n",
       "      <th></th>\n",
       "      <th>protein_name</th>\n",
       "      <th>feature_0</th>\n",
       "      <th>feature_1</th>\n",
       "      <th>feature_2</th>\n",
       "      <th>feature_3</th>\n",
       "      <th>feature_4</th>\n",
       "      <th>feature_5</th>\n",
       "      <th>feature_6</th>\n",
       "      <th>feature_7</th>\n",
       "      <th>feature_8</th>\n",
       "      <th>...</th>\n",
       "      <th>feature_5110</th>\n",
       "      <th>feature_5111</th>\n",
       "      <th>feature_5112</th>\n",
       "      <th>feature_5113</th>\n",
       "      <th>feature_5114</th>\n",
       "      <th>feature_5115</th>\n",
       "      <th>feature_5116</th>\n",
       "      <th>feature_5117</th>\n",
       "      <th>feature_5118</th>\n",
       "      <th>feature_5119</th>\n",
       "    </tr>\n",
       "  </thead>\n",
       "  <tbody>\n",
       "    <tr>\n",
       "      <th>0</th>\n",
       "      <td>aa2ar</td>\n",
       "      <td>-0.374989</td>\n",
       "      <td>0.78784</td>\n",
       "      <td>-0.581810</td>\n",
       "      <td>0.916078</td>\n",
       "      <td>-1.457237</td>\n",
       "      <td>0.107462</td>\n",
       "      <td>0.342845</td>\n",
       "      <td>0.134249</td>\n",
       "      <td>-0.751371</td>\n",
       "      <td>...</td>\n",
       "      <td>-0.026118</td>\n",
       "      <td>-0.211198</td>\n",
       "      <td>-0.287110</td>\n",
       "      <td>-0.578028</td>\n",
       "      <td>-0.606241</td>\n",
       "      <td>0.131340</td>\n",
       "      <td>0.032938</td>\n",
       "      <td>0.051761</td>\n",
       "      <td>0.378271</td>\n",
       "      <td>-0.046079</td>\n",
       "    </tr>\n",
       "    <tr>\n",
       "      <th>1</th>\n",
       "      <td>abl1</td>\n",
       "      <td>0.353592</td>\n",
       "      <td>0.86968</td>\n",
       "      <td>-0.270712</td>\n",
       "      <td>-0.836372</td>\n",
       "      <td>-1.241593</td>\n",
       "      <td>-0.526479</td>\n",
       "      <td>0.703427</td>\n",
       "      <td>-0.054530</td>\n",
       "      <td>-0.081300</td>\n",
       "      <td>...</td>\n",
       "      <td>-0.300174</td>\n",
       "      <td>-0.305824</td>\n",
       "      <td>-0.141287</td>\n",
       "      <td>0.385516</td>\n",
       "      <td>-0.043917</td>\n",
       "      <td>-1.072353</td>\n",
       "      <td>0.207836</td>\n",
       "      <td>-0.299151</td>\n",
       "      <td>-0.408410</td>\n",
       "      <td>-0.733621</td>\n",
       "    </tr>\n",
       "  </tbody>\n",
       "</table>\n",
       "<p>2 rows × 5121 columns</p>\n",
       "</div>"
      ],
      "text/plain": [
       "  protein_name  feature_0  feature_1  feature_2  feature_3  feature_4  \\\n",
       "0        aa2ar  -0.374989    0.78784  -0.581810   0.916078  -1.457237   \n",
       "1         abl1   0.353592    0.86968  -0.270712  -0.836372  -1.241593   \n",
       "\n",
       "   feature_5  feature_6  feature_7  feature_8  ...  feature_5110  \\\n",
       "0   0.107462   0.342845   0.134249  -0.751371  ...     -0.026118   \n",
       "1  -0.526479   0.703427  -0.054530  -0.081300  ...     -0.300174   \n",
       "\n",
       "   feature_5111  feature_5112  feature_5113  feature_5114  feature_5115  \\\n",
       "0     -0.211198     -0.287110     -0.578028     -0.606241      0.131340   \n",
       "1     -0.305824     -0.141287      0.385516     -0.043917     -1.072353   \n",
       "\n",
       "   feature_5116  feature_5117  feature_5118  feature_5119  \n",
       "0      0.032938      0.051761      0.378271     -0.046079  \n",
       "1      0.207836     -0.299151     -0.408410     -0.733621  \n",
       "\n",
       "[2 rows x 5121 columns]"
      ]
     },
     "execution_count": 21,
     "metadata": {},
     "output_type": "execute_result"
    }
   ],
   "source": [
    "contract_df"
   ]
  },
  {
   "cell_type": "code",
   "execution_count": 4,
   "id": "71193666",
   "metadata": {},
   "outputs": [
    {
     "data": {
      "text/html": [
       "<div>\n",
       "<style scoped>\n",
       "    .dataframe tbody tr th:only-of-type {\n",
       "        vertical-align: middle;\n",
       "    }\n",
       "\n",
       "    .dataframe tbody tr th {\n",
       "        vertical-align: top;\n",
       "    }\n",
       "\n",
       "    .dataframe thead th {\n",
       "        text-align: right;\n",
       "    }\n",
       "</style>\n",
       "<table border=\"1\" class=\"dataframe\">\n",
       "  <thead>\n",
       "    <tr style=\"text-align: right;\">\n",
       "      <th></th>\n",
       "      <th>filename</th>\n",
       "      <th>H_H_1</th>\n",
       "      <th>H_C_1</th>\n",
       "      <th>H_O_1</th>\n",
       "      <th>H_N_1</th>\n",
       "      <th>H_P_1</th>\n",
       "      <th>H_S_1</th>\n",
       "      <th>H_HAX_1</th>\n",
       "      <th>H_DU_1</th>\n",
       "      <th>C_H_1</th>\n",
       "      <th>...</th>\n",
       "      <th>HAX_DU_60</th>\n",
       "      <th>DU_H_60</th>\n",
       "      <th>DU_C_60</th>\n",
       "      <th>DU_O_60</th>\n",
       "      <th>DU_N_60</th>\n",
       "      <th>DU_P_60</th>\n",
       "      <th>DU_S_60</th>\n",
       "      <th>DU_HAX_60</th>\n",
       "      <th>DU_DU_60</th>\n",
       "      <th>outputn</th>\n",
       "    </tr>\n",
       "  </thead>\n",
       "  <tbody>\n",
       "    <tr>\n",
       "      <th>0</th>\n",
       "      <td>aa2ar_actives_final_ligand_001_out</td>\n",
       "      <td>0.0</td>\n",
       "      <td>0.0</td>\n",
       "      <td>0.0</td>\n",
       "      <td>0.0</td>\n",
       "      <td>0.0</td>\n",
       "      <td>0.0</td>\n",
       "      <td>0.0</td>\n",
       "      <td>0.0</td>\n",
       "      <td>0.0</td>\n",
       "      <td>...</td>\n",
       "      <td>0.0</td>\n",
       "      <td>0.0</td>\n",
       "      <td>0.0</td>\n",
       "      <td>0.0</td>\n",
       "      <td>0.0</td>\n",
       "      <td>0.0</td>\n",
       "      <td>0.0</td>\n",
       "      <td>0.0</td>\n",
       "      <td>0.0</td>\n",
       "      <td>aa2ar</td>\n",
       "    </tr>\n",
       "    <tr>\n",
       "      <th>1</th>\n",
       "      <td>aa2ar_actives_final_ligand_002_out</td>\n",
       "      <td>0.0</td>\n",
       "      <td>0.0</td>\n",
       "      <td>0.0</td>\n",
       "      <td>0.0</td>\n",
       "      <td>0.0</td>\n",
       "      <td>0.0</td>\n",
       "      <td>0.0</td>\n",
       "      <td>0.0</td>\n",
       "      <td>0.0</td>\n",
       "      <td>...</td>\n",
       "      <td>0.0</td>\n",
       "      <td>0.0</td>\n",
       "      <td>0.0</td>\n",
       "      <td>0.0</td>\n",
       "      <td>0.0</td>\n",
       "      <td>0.0</td>\n",
       "      <td>0.0</td>\n",
       "      <td>0.0</td>\n",
       "      <td>0.0</td>\n",
       "      <td>aa2ar</td>\n",
       "    </tr>\n",
       "  </tbody>\n",
       "</table>\n",
       "<p>2 rows × 3842 columns</p>\n",
       "</div>"
      ],
      "text/plain": [
       "                             filename  H_H_1  H_C_1  H_O_1  H_N_1  H_P_1  \\\n",
       "0  aa2ar_actives_final_ligand_001_out    0.0    0.0    0.0    0.0    0.0   \n",
       "1  aa2ar_actives_final_ligand_002_out    0.0    0.0    0.0    0.0    0.0   \n",
       "\n",
       "   H_S_1  H_HAX_1  H_DU_1  C_H_1  ...  HAX_DU_60  DU_H_60  DU_C_60  DU_O_60  \\\n",
       "0    0.0      0.0     0.0    0.0  ...        0.0      0.0      0.0      0.0   \n",
       "1    0.0      0.0     0.0    0.0  ...        0.0      0.0      0.0      0.0   \n",
       "\n",
       "   DU_N_60  DU_P_60  DU_S_60  DU_HAX_60  DU_DU_60  outputn  \n",
       "0      0.0      0.0      0.0        0.0       0.0    aa2ar  \n",
       "1      0.0      0.0      0.0        0.0       0.0    aa2ar  \n",
       "\n",
       "[2 rows x 3842 columns]"
      ]
     },
     "execution_count": 4,
     "metadata": {},
     "output_type": "execute_result"
    }
   ],
   "source": [
    "contract_df['outputn'] = contract_df['filename'].apply(lambda x: x.split('_')[0])\n",
    "contract_df"
   ]
  },
  {
   "cell_type": "code",
   "execution_count": 5,
   "id": "2faeb56b",
   "metadata": {},
   "outputs": [],
   "source": [
    "import torch\n",
    "path = '/mnt/e/SDT/input/protein_emmbeding/aa2ar_.pt'\n",
    "\n",
    "emmbeding = torch.load(path)"
   ]
  },
  {
   "cell_type": "code",
   "execution_count": 6,
   "id": "6d5e4817",
   "metadata": {},
   "outputs": [
    {
     "data": {
      "text/plain": [
       "{'label': 'aa2ar_',\n",
       " 'mean_representations': {33: tensor([-0.3750,  0.7878, -0.5818,  ...,  0.0518,  0.3783, -0.0461])}}"
      ]
     },
     "execution_count": 6,
     "metadata": {},
     "output_type": "execute_result"
    }
   ],
   "source": [
    "emmbeding"
   ]
  },
  {
   "cell_type": "code",
   "execution_count": 11,
   "id": "31d46689",
   "metadata": {},
   "outputs": [
    {
     "data": {
      "text/plain": [
       "tensor([-0.3750,  0.7878, -0.5818,  ...,  0.0518,  0.3783, -0.0461])"
      ]
     },
     "execution_count": 11,
     "metadata": {},
     "output_type": "execute_result"
    }
   ],
   "source": [
    "emmbeding['mean_representations'][33]"
   ]
  },
  {
   "cell_type": "code",
   "execution_count": 12,
   "id": "1cc6ac77",
   "metadata": {},
   "outputs": [
    {
     "data": {
      "text/plain": [
       "tensor(0.7878)"
      ]
     },
     "execution_count": 12,
     "metadata": {},
     "output_type": "execute_result"
    }
   ],
   "source": [
    "emmbeding['mean_representations'][33][1]"
   ]
  },
  {
   "cell_type": "code",
   "execution_count": null,
   "id": "a17ec620",
   "metadata": {},
   "outputs": [],
   "source": []
  },
  {
   "cell_type": "code",
   "execution_count": null,
   "id": "a9490a5e",
   "metadata": {},
   "outputs": [],
   "source": []
  },
  {
   "cell_type": "code",
   "execution_count": null,
   "id": "1949c70d",
   "metadata": {},
   "outputs": [],
   "source": []
  },
  {
   "cell_type": "code",
   "execution_count": null,
   "id": "844500f1",
   "metadata": {},
   "outputs": [],
   "source": []
  },
  {
   "cell_type": "code",
   "execution_count": null,
   "id": "9f2fc9ed",
   "metadata": {},
   "outputs": [],
   "source": []
  },
  {
   "cell_type": "code",
   "execution_count": null,
   "id": "2de75fef",
   "metadata": {},
   "outputs": [],
   "source": []
  },
  {
   "cell_type": "code",
   "execution_count": null,
   "id": "300363d0",
   "metadata": {},
   "outputs": [],
   "source": []
  }
 ],
 "metadata": {
  "kernelspec": {
   "display_name": "torch",
   "language": "python",
   "name": "torch"
  },
  "language_info": {
   "codemirror_mode": {
    "name": "ipython",
    "version": 3
   },
   "file_extension": ".py",
   "mimetype": "text/x-python",
   "name": "python",
   "nbconvert_exporter": "python",
   "pygments_lexer": "ipython3",
   "version": "3.7.16"
  }
 },
 "nbformat": 4,
 "nbformat_minor": 5
}
